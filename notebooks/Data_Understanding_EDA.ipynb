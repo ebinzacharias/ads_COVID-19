{
 "cells": [
  {
   "cell_type": "markdown",
   "metadata": {},
   "source": [
    "# Data Understanding EDA"
   ]
  },
  {
   "cell_type": "markdown",
   "metadata": {},
   "source": [
    "### Plot.ly"
   ]
  },
  {
   "cell_type": "code",
   "execution_count": 1,
   "metadata": {},
   "outputs": [],
   "source": [
    "%matplotlib inline\n",
    "\n",
    "import pandas as pd\n",
    "import numpy as np\n",
    "from datetime import datetime\n",
    "\n",
    "import matplotlib as mpl\n",
    "import matplotlib.pyplot as plt\n",
    "\n",
    "import seaborn as sns\n",
    "\n",
    "import plotly.graph_objects as go\n",
    "import plotly\n",
    "plotly.__version__\n",
    "\n",
    "#import webbrowser  \n",
    "#print(webbrowser._browsers)\n",
    "\n",
    "import dash\n",
    "import dash_core_components as dcc\n",
    "import dash_html_components as html\n",
    "from dash.dependencies import Input, Output"
   ]
  },
  {
   "cell_type": "code",
   "execution_count": 2,
   "metadata": {},
   "outputs": [],
   "source": [
    "dataPath_Raw = (\"../data/raw/COVID-19/csse_covid_19_data/csse_covid_19_time_series/time_series_covid19_confirmed_global.csv\")\n",
    "dataPath_Processed = (\"../data/processed/\")\n",
    "\n",
    "pd.set_option(\"display.max_rows\", 500)"
   ]
  },
  {
   "cell_type": "code",
   "execution_count": 3,
   "metadata": {},
   "outputs": [
    {
     "data": {
      "text/html": [
       "<div>\n",
       "<style scoped>\n",
       "    .dataframe tbody tr th:only-of-type {\n",
       "        vertical-align: middle;\n",
       "    }\n",
       "\n",
       "    .dataframe tbody tr th {\n",
       "        vertical-align: top;\n",
       "    }\n",
       "\n",
       "    .dataframe thead th {\n",
       "        text-align: right;\n",
       "    }\n",
       "</style>\n",
       "<table border=\"1\" class=\"dataframe\">\n",
       "  <thead>\n",
       "    <tr style=\"text-align: right;\">\n",
       "      <th></th>\n",
       "      <th>date</th>\n",
       "      <th>Italy</th>\n",
       "      <th>US</th>\n",
       "      <th>Spain</th>\n",
       "      <th>Germany</th>\n",
       "      <th>India</th>\n",
       "      <th>Korea, South</th>\n",
       "      <th>China</th>\n",
       "      <th>Brazil</th>\n",
       "    </tr>\n",
       "  </thead>\n",
       "  <tbody>\n",
       "    <tr>\n",
       "      <th>0</th>\n",
       "      <td>2020-01-22</td>\n",
       "      <td>0</td>\n",
       "      <td>1</td>\n",
       "      <td>0</td>\n",
       "      <td>0</td>\n",
       "      <td>0</td>\n",
       "      <td>1</td>\n",
       "      <td>548</td>\n",
       "      <td>0</td>\n",
       "    </tr>\n",
       "    <tr>\n",
       "      <th>1</th>\n",
       "      <td>2020-01-23</td>\n",
       "      <td>0</td>\n",
       "      <td>1</td>\n",
       "      <td>0</td>\n",
       "      <td>0</td>\n",
       "      <td>0</td>\n",
       "      <td>1</td>\n",
       "      <td>643</td>\n",
       "      <td>0</td>\n",
       "    </tr>\n",
       "    <tr>\n",
       "      <th>2</th>\n",
       "      <td>2020-01-24</td>\n",
       "      <td>0</td>\n",
       "      <td>2</td>\n",
       "      <td>0</td>\n",
       "      <td>0</td>\n",
       "      <td>0</td>\n",
       "      <td>2</td>\n",
       "      <td>920</td>\n",
       "      <td>0</td>\n",
       "    </tr>\n",
       "    <tr>\n",
       "      <th>3</th>\n",
       "      <td>2020-01-25</td>\n",
       "      <td>0</td>\n",
       "      <td>2</td>\n",
       "      <td>0</td>\n",
       "      <td>0</td>\n",
       "      <td>0</td>\n",
       "      <td>2</td>\n",
       "      <td>1406</td>\n",
       "      <td>0</td>\n",
       "    </tr>\n",
       "    <tr>\n",
       "      <th>4</th>\n",
       "      <td>2020-01-26</td>\n",
       "      <td>0</td>\n",
       "      <td>5</td>\n",
       "      <td>0</td>\n",
       "      <td>0</td>\n",
       "      <td>0</td>\n",
       "      <td>3</td>\n",
       "      <td>2075</td>\n",
       "      <td>0</td>\n",
       "    </tr>\n",
       "  </tbody>\n",
       "</table>\n",
       "</div>"
      ],
      "text/plain": [
       "         date  Italy  US  Spain  Germany  India  Korea, South  China  Brazil\n",
       "0  2020-01-22      0   1      0        0      0             1    548       0\n",
       "1  2020-01-23      0   1      0        0      0             1    643       0\n",
       "2  2020-01-24      0   2      0        0      0             2    920       0\n",
       "3  2020-01-25      0   2      0        0      0             2   1406       0\n",
       "4  2020-01-26      0   5      0        0      0             3   2075       0"
      ]
     },
     "execution_count": 3,
     "metadata": {},
     "output_type": "execute_result"
    }
   ],
   "source": [
    "df_plot = pd.read_csv(dataPath_Processed + \"COVID_Flat_Table.csv\", sep=\",\")\n",
    "\n",
    "df_plot.head()"
   ]
  },
  {
   "cell_type": "code",
   "execution_count": 4,
   "metadata": {},
   "outputs": [],
   "source": [
    "fig = go.Figure()"
   ]
  },
  {
   "cell_type": "code",
   "execution_count": 5,
   "metadata": {},
   "outputs": [],
   "source": [
    "country_list = [\n",
    "    'Italy',\n",
    "    'US',\n",
    "    'Spain',\n",
    "    'Germany',\n",
    "    'India',\n",
    "    'Korea, South',\n",
    "    'China',\n",
    "    'Brazil'\n",
    "]"
   ]
  },
  {
   "cell_type": "code",
   "execution_count": 6,
   "metadata": {},
   "outputs": [
    {
     "name": "stdout",
     "output_type": "stream",
     "text": [
      "['Italy', 'US', 'Spain', 'Germany', 'India', 'Korea, South', 'China', 'Brazil']\n"
     ]
    }
   ],
   "source": [
    "print(country_list)"
   ]
  },
  {
   "cell_type": "code",
   "execution_count": 7,
   "metadata": {},
   "outputs": [
    {
     "data": {
      "text/plain": [
       "'fig.add_trace(go.Scatter(x = df_plot.date,\\n                         y = df_plot[\\'US\\'],\\n                         mode = \\'markers\\'))\\n\\nfig.update_layout(width = 800,\\n                  height = 600,\\n                  xaxis_title = \\'Time\\',\\n                  yaxis_title = \"Confirmed infected people [source: John Hopkins csse, log-scale]\")\\n\\nfig.update_yaxes(type=\\'log\\', range=[1.5, 5.5])'"
      ]
     },
     "execution_count": 7,
     "metadata": {},
     "output_type": "execute_result"
    }
   ],
   "source": [
    "# Single Country\n",
    "\n",
    "\"\"\"fig.add_trace(go.Scatter(x = df_plot.date,\n",
    "                         y = df_plot['US'],\n",
    "                         mode = 'markers'))\n",
    "\n",
    "fig.update_layout(width = 800,\n",
    "                  height = 600,\n",
    "                  xaxis_title = 'Time',\n",
    "                  yaxis_title = \"Confirmed infected people [source: John Hopkins csse, log-scale]\")\n",
    "\n",
    "fig.update_yaxes(type='log', range=[1.5, 5.5])\"\"\""
   ]
  },
  {
   "cell_type": "code",
   "execution_count": 8,
   "metadata": {},
   "outputs": [
    {
     "data": {
      "text/plain": [
       "'\\nfor i in country_list:\\n    fig.add_trace(go.Scatter(x = df_plot.date,\\n                         y = df_plot[i],\\n                         mode = \\'markers+lines\\',\\n                         line_width = 0.4, marker_size = 3,\\n                         name = i)\\n                  )\\n    \\n\\nfig.update_layout(width = 1600,\\n              height = 1200,\\n              xaxis_title = \\'Time\\',\\n              yaxis_title = \"Confirmed infected people [source: John Hopkins csse, log-scale]\",\\n                 )\\n\\nfig.update_yaxes(type=\\'log\\', range=[1.5, 5.5])\\n\\nfig.update_layout(xaxis_rangeslider_visible= True)\\n\\nfig.show(renderer=\\'firefox\\');'"
      ]
     },
     "execution_count": 8,
     "metadata": {},
     "output_type": "execute_result"
    }
   ],
   "source": [
    "# Loop over each country in the list\n",
    "'''\n",
    "for i in country_list:\n",
    "    fig.add_trace(go.Scatter(x = df_plot.date,\n",
    "                         y = df_plot[i],\n",
    "                         mode = 'markers+lines',\n",
    "                         line_width = 0.4, marker_size = 3,\n",
    "                         name = i)\n",
    "                  )\n",
    "    \n",
    "\n",
    "fig.update_layout(width = 1600,\n",
    "              height = 1200,\n",
    "              xaxis_title = 'Time',\n",
    "              yaxis_title = \"Confirmed infected people [source: John Hopkins csse, log-scale]\",\n",
    "                 )\n",
    "\n",
    "fig.update_yaxes(type='log', range=[1.5, 5.5])\n",
    "\n",
    "fig.update_layout(xaxis_rangeslider_visible= True)\n",
    "\n",
    "fig.show(renderer='firefox');'''"
   ]
  },
  {
   "cell_type": "code",
   "execution_count": 9,
   "metadata": {},
   "outputs": [],
   "source": [
    "app = dash.Dash()\n",
    "app.layout = html.Div([\n",
    "    \n",
    "    html.Label('Multi-Select Country'),\n",
    "    dcc.Dropdown(\n",
    "        id = \"country_drop_down\",\n",
    "        options = [\n",
    "            {'label': 'Italy', 'value' : 'Italy'},\n",
    "            {'label': 'US', 'value' : 'US'},\n",
    "            {'label': 'Spain', 'value' : 'Spain'},\n",
    "            {'label': 'Germany', 'value' : 'Germany'},\n",
    "            {'label': 'India', 'value' : 'India'},\n",
    "            {'label': 'Korea, South', 'value' : 'Korea, South'},\n",
    "            {'label': 'China', 'value' : 'China'},\n",
    "            {'label': 'Brazil', 'value' : 'Brazil'},           \n",
    "        ],\n",
    "        value=['US', 'Germany'],\n",
    "        multi=True\n",
    "    ),\n",
    "    dcc.Graph(figure=fig, id=\"main_window_slope\")\n",
    "])"
   ]
  },
  {
   "cell_type": "code",
   "execution_count": 12,
   "metadata": {},
   "outputs": [],
   "source": [
    "@app.callback(\n",
    "\n",
    "    Output('main_window_slope', 'figure'),\n",
    "    [Input('country_drop_down', 'value')]\n",
    ")\n",
    "\n",
    "def update_figure(country_list):\n",
    "    \n",
    "    traces = []\n",
    "    \n",
    "    for i in country_list:\n",
    "        traces.append(dict(x=df_plot.date,\n",
    "                     y = df_plot[i],\n",
    "                     mode = 'markers+lines',\n",
    "                     opacity = 0.9,\n",
    "                     line_width = 0.4, marker_size = 3,\n",
    "                     name = i\n",
    "                          )\n",
    "                     )\n",
    "    \n",
    "    return {\n",
    "        \n",
    "        'data': traces,\n",
    "        'layout': dict (\n",
    "            width = 1280,\n",
    "            height = 720,\n",
    "            xaxis_title = \"Time\",\n",
    "            yaxis_title = \"Confirmed infected people [source: John Hopkins csse, log-scale]\",\n",
    "            \n",
    "            xaxis = {\n",
    "                'tickangle' : -45,\n",
    "                'nticks': 20,\n",
    "                'tickfont': dict(size= 14, color = '#7f7f7f')\n",
    "                \n",
    "            },\n",
    "            \n",
    "            yaxis = {\n",
    "                'type':'log',\n",
    "                'range':[1.5, 5.5]\n",
    "        }\n",
    "        )\n",
    "    }"
   ]
  },
  {
   "cell_type": "code",
   "execution_count": null,
   "metadata": {
    "scrolled": true
   },
   "outputs": [
    {
     "name": "stdout",
     "output_type": "stream",
     "text": [
      "Running on http://127.0.0.1:8050/\n",
      "Debugger PIN: 989-557-456\n",
      " * Serving Flask app \"__main__\" (lazy loading)\n",
      " * Environment: production\n",
      "\u001b[31m   WARNING: This is a development server. Do not use it in a production deployment.\u001b[0m\n",
      "\u001b[2m   Use a production WSGI server instead.\u001b[0m\n",
      " * Debug mode: on\n"
     ]
    }
   ],
   "source": [
    "app.run_server(debug=True, use_reloader=False)"
   ]
  },
  {
   "cell_type": "code",
   "execution_count": null,
   "metadata": {},
   "outputs": [],
   "source": []
  }
 ],
 "metadata": {
  "kernelspec": {
   "display_name": "Python 3",
   "language": "python",
   "name": "python3"
  },
  "language_info": {
   "codemirror_mode": {
    "name": "ipython",
    "version": 3
   },
   "file_extension": ".py",
   "mimetype": "text/x-python",
   "name": "python",
   "nbconvert_exporter": "python",
   "pygments_lexer": "ipython3",
   "version": "3.6.3"
  }
 },
 "nbformat": 4,
 "nbformat_minor": 4
}
