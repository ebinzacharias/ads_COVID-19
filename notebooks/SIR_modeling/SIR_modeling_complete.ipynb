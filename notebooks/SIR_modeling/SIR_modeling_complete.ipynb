{
 "cells": [
  {
   "cell_type": "code",
   "execution_count": 1,
   "metadata": {},
   "outputs": [
    {
     "data": {
      "text/plain": [
       "'4.5.0'"
      ]
     },
     "execution_count": 1,
     "metadata": {},
     "output_type": "execute_result"
    }
   ],
   "source": [
    "%matplotlib inline\n",
    "\n",
    "import pandas as pd\n",
    "import numpy as np\n",
    "from datetime import datetime\n",
    "\n",
    "import matplotlib as mpl\n",
    "import matplotlib.pyplot as plt\n",
    "\n",
    "import seaborn as sns\n",
    "\n",
    "import plotly.graph_objs as go\n",
    "import plotly\n",
    "plotly.__version__"
   ]
  },
  {
   "cell_type": "code",
   "execution_count": 2,
   "metadata": {},
   "outputs": [],
   "source": [
    "sns.set(style='darkgrid')\n",
    "mpl.rcParams['figure.figsize'] = (12,15)"
   ]
  },
  {
   "cell_type": "code",
   "execution_count": 3,
   "metadata": {},
   "outputs": [],
   "source": [
    "dataPath_Raw = (\"data/COVID_Flat_Table_Complete.csv\")\n",
    "#dataPath_Processed = (\"../data/processed/\")\n",
    "\n",
    "pd.set_option(\"display.max_rows\", 500)"
   ]
  },
  {
   "cell_type": "code",
   "execution_count": 4,
   "metadata": {},
   "outputs": [
    {
     "data": {
      "text/html": [
       "<div>\n",
       "<style scoped>\n",
       "    .dataframe tbody tr th:only-of-type {\n",
       "        vertical-align: middle;\n",
       "    }\n",
       "\n",
       "    .dataframe tbody tr th {\n",
       "        vertical-align: top;\n",
       "    }\n",
       "\n",
       "    .dataframe thead th {\n",
       "        text-align: right;\n",
       "    }\n",
       "</style>\n",
       "<table border=\"1\" class=\"dataframe\">\n",
       "  <thead>\n",
       "    <tr style=\"text-align: right;\">\n",
       "      <th></th>\n",
       "      <th>date</th>\n",
       "      <th>Italy</th>\n",
       "      <th>US</th>\n",
       "      <th>Spain</th>\n",
       "      <th>Germany</th>\n",
       "      <th>India</th>\n",
       "      <th>Korea, South</th>\n",
       "      <th>China</th>\n",
       "      <th>Brazil</th>\n",
       "      <th>Afghanistan</th>\n",
       "      <th>...</th>\n",
       "      <th>Burundi</th>\n",
       "      <th>Sierra Leone</th>\n",
       "      <th>Malawi</th>\n",
       "      <th>South Sudan</th>\n",
       "      <th>Western Sahara</th>\n",
       "      <th>Sao Tome and Principe</th>\n",
       "      <th>Yemen</th>\n",
       "      <th>Comoros</th>\n",
       "      <th>Tajikistan</th>\n",
       "      <th>Lesotho</th>\n",
       "    </tr>\n",
       "  </thead>\n",
       "  <tbody>\n",
       "    <tr>\n",
       "      <th>145</th>\n",
       "      <td>2020-06-15</td>\n",
       "      <td>237290</td>\n",
       "      <td>2114026</td>\n",
       "      <td>244109</td>\n",
       "      <td>187682</td>\n",
       "      <td>343091</td>\n",
       "      <td>12155</td>\n",
       "      <td>84378</td>\n",
       "      <td>888271</td>\n",
       "      <td>25527</td>\n",
       "      <td>...</td>\n",
       "      <td>85</td>\n",
       "      <td>1176</td>\n",
       "      <td>555</td>\n",
       "      <td>1693</td>\n",
       "      <td>9</td>\n",
       "      <td>662</td>\n",
       "      <td>844</td>\n",
       "      <td>176</td>\n",
       "      <td>5097</td>\n",
       "      <td>4</td>\n",
       "    </tr>\n",
       "    <tr>\n",
       "      <th>146</th>\n",
       "      <td>2020-06-16</td>\n",
       "      <td>237500</td>\n",
       "      <td>2137731</td>\n",
       "      <td>244328</td>\n",
       "      <td>188252</td>\n",
       "      <td>354065</td>\n",
       "      <td>12198</td>\n",
       "      <td>84422</td>\n",
       "      <td>923189</td>\n",
       "      <td>26310</td>\n",
       "      <td>...</td>\n",
       "      <td>104</td>\n",
       "      <td>1225</td>\n",
       "      <td>564</td>\n",
       "      <td>1776</td>\n",
       "      <td>9</td>\n",
       "      <td>671</td>\n",
       "      <td>885</td>\n",
       "      <td>197</td>\n",
       "      <td>5160</td>\n",
       "      <td>4</td>\n",
       "    </tr>\n",
       "    <tr>\n",
       "      <th>147</th>\n",
       "      <td>2020-06-17</td>\n",
       "      <td>237828</td>\n",
       "      <td>2163290</td>\n",
       "      <td>244683</td>\n",
       "      <td>188604</td>\n",
       "      <td>366946</td>\n",
       "      <td>12257</td>\n",
       "      <td>84458</td>\n",
       "      <td>955377</td>\n",
       "      <td>26874</td>\n",
       "      <td>...</td>\n",
       "      <td>104</td>\n",
       "      <td>1249</td>\n",
       "      <td>572</td>\n",
       "      <td>1813</td>\n",
       "      <td>9</td>\n",
       "      <td>683</td>\n",
       "      <td>902</td>\n",
       "      <td>197</td>\n",
       "      <td>5221</td>\n",
       "      <td>4</td>\n",
       "    </tr>\n",
       "    <tr>\n",
       "      <th>148</th>\n",
       "      <td>2020-06-18</td>\n",
       "      <td>238159</td>\n",
       "      <td>2191052</td>\n",
       "      <td>245268</td>\n",
       "      <td>189817</td>\n",
       "      <td>380532</td>\n",
       "      <td>12306</td>\n",
       "      <td>84494</td>\n",
       "      <td>978142</td>\n",
       "      <td>27532</td>\n",
       "      <td>...</td>\n",
       "      <td>104</td>\n",
       "      <td>1272</td>\n",
       "      <td>592</td>\n",
       "      <td>1830</td>\n",
       "      <td>9</td>\n",
       "      <td>688</td>\n",
       "      <td>909</td>\n",
       "      <td>210</td>\n",
       "      <td>5279</td>\n",
       "      <td>4</td>\n",
       "    </tr>\n",
       "    <tr>\n",
       "      <th>149</th>\n",
       "      <td>2020-06-19</td>\n",
       "      <td>238011</td>\n",
       "      <td>2220961</td>\n",
       "      <td>245575</td>\n",
       "      <td>190299</td>\n",
       "      <td>395048</td>\n",
       "      <td>12373</td>\n",
       "      <td>84494</td>\n",
       "      <td>1032913</td>\n",
       "      <td>27878</td>\n",
       "      <td>...</td>\n",
       "      <td>104</td>\n",
       "      <td>1298</td>\n",
       "      <td>620</td>\n",
       "      <td>1864</td>\n",
       "      <td>9</td>\n",
       "      <td>693</td>\n",
       "      <td>919</td>\n",
       "      <td>210</td>\n",
       "      <td>5338</td>\n",
       "      <td>4</td>\n",
       "    </tr>\n",
       "  </tbody>\n",
       "</table>\n",
       "<p>5 rows × 189 columns</p>\n",
       "</div>"
      ],
      "text/plain": [
       "           date   Italy       US   Spain  Germany   India  Korea, South  \\\n",
       "145  2020-06-15  237290  2114026  244109   187682  343091         12155   \n",
       "146  2020-06-16  237500  2137731  244328   188252  354065         12198   \n",
       "147  2020-06-17  237828  2163290  244683   188604  366946         12257   \n",
       "148  2020-06-18  238159  2191052  245268   189817  380532         12306   \n",
       "149  2020-06-19  238011  2220961  245575   190299  395048         12373   \n",
       "\n",
       "     China   Brazil  Afghanistan  ...  Burundi  Sierra Leone  Malawi  \\\n",
       "145  84378   888271        25527  ...       85          1176     555   \n",
       "146  84422   923189        26310  ...      104          1225     564   \n",
       "147  84458   955377        26874  ...      104          1249     572   \n",
       "148  84494   978142        27532  ...      104          1272     592   \n",
       "149  84494  1032913        27878  ...      104          1298     620   \n",
       "\n",
       "     South Sudan  Western Sahara  Sao Tome and Principe  Yemen  Comoros  \\\n",
       "145         1693               9                    662    844      176   \n",
       "146         1776               9                    671    885      197   \n",
       "147         1813               9                    683    902      197   \n",
       "148         1830               9                    688    909      210   \n",
       "149         1864               9                    693    919      210   \n",
       "\n",
       "     Tajikistan  Lesotho  \n",
       "145        5097        4  \n",
       "146        5160        4  \n",
       "147        5221        4  \n",
       "148        5279        4  \n",
       "149        5338        4  \n",
       "\n",
       "[5 rows x 189 columns]"
      ]
     },
     "execution_count": 4,
     "metadata": {},
     "output_type": "execute_result"
    }
   ],
   "source": [
    "df_analyse = pd.read_csv(dataPath_Raw, sep=\",\")\n",
    "df_analyse.sort_values('date', ascending = True).tail()"
   ]
  },
  {
   "cell_type": "markdown",
   "metadata": {},
   "source": [
    "## Fitting"
   ]
  },
  {
   "cell_type": "code",
   "execution_count": 5,
   "metadata": {},
   "outputs": [],
   "source": [
    "from scipy import optimize\n",
    "from scipy import integrate"
   ]
  },
  {
   "cell_type": "code",
   "execution_count": 608,
   "metadata": {},
   "outputs": [],
   "source": [
    "ydata = np.array(df_analyse.India[120:])   #90\n",
    "time = np.arange(len(ydata))"
   ]
  },
  {
   "cell_type": "code",
   "execution_count": 609,
   "metadata": {},
   "outputs": [],
   "source": [
    "N0 = 1000000\n",
    "beta = 0.4\n",
    "gamma = 0.1\n",
    "\n",
    "I0 = ydata[0]\n",
    "S0 = N0 - I0\n",
    "R0 = 0"
   ]
  },
  {
   "cell_type": "code",
   "execution_count": 610,
   "metadata": {},
   "outputs": [
    {
     "name": "stdout",
     "output_type": "stream",
     "text": [
      "118226\n"
     ]
    }
   ],
   "source": [
    "print(I0)"
   ]
  },
  {
   "cell_type": "code",
   "execution_count": 611,
   "metadata": {},
   "outputs": [],
   "source": [
    "def SIR_model_fit(SIR, time, beta, gamma):\n",
    "    \n",
    "    S,I,R = SIR\n",
    "    dS = -beta * S * I/N0\n",
    "    dI = beta * S * I/N0 - gamma * I\n",
    "    dR = gamma * I\n",
    "    \n",
    "    return([dS, dI, dR])\n",
    "    "
   ]
  },
  {
   "cell_type": "code",
   "execution_count": 612,
   "metadata": {},
   "outputs": [],
   "source": [
    "def fit_odeint(x,beta,gamma):\n",
    "    return integrate.odeint(SIR_model_fit, (S0,I0,R0), time, args=(beta, gamma))[:,1]\n",
    "\n",
    "# [,:1] infected rate"
   ]
  },
  {
   "cell_type": "code",
   "execution_count": 613,
   "metadata": {},
   "outputs": [],
   "source": [
    "# Integrate\n",
    "\n",
    "popt = [0.4, 0.1]  #beta, gamma\n",
    "\n",
    "fit_odeint(time, *popt);"
   ]
  },
  {
   "cell_type": "code",
   "execution_count": 614,
   "metadata": {},
   "outputs": [],
   "source": [
    "popt, pcov = optimize.curve_fit(fit_odeint, time, ydata)\n",
    "perr = np.sqrt(np.diag(pcov))\n"
   ]
  },
  {
   "cell_type": "code",
   "execution_count": 615,
   "metadata": {},
   "outputs": [
    {
     "name": "stdout",
     "output_type": "stream",
     "text": [
      "Standard deviation errors :  [1.21690954e-04 5.75978587e-05] Infection Start :  118226\n"
     ]
    }
   ],
   "source": [
    "print('Standard deviation errors : ', str(perr), 'Infection Start : ', ydata[0])\n"
   ]
  },
  {
   "cell_type": "code",
   "execution_count": 616,
   "metadata": {},
   "outputs": [
    {
     "data": {
      "text/plain": [
       "array([118226.        , 123986.27893122, 129989.02908662, 136240.71760642,\n",
       "       142747.61654081, 149515.75994355, 156550.89863443, 163858.45252993,\n",
       "       171443.46083075, 179310.53035449, 187463.78230773, 195906.79785761,\n",
       "       204642.56298693, 213673.41307687, 223000.97773548, 232626.1266151 ,\n",
       "       242548.91579961, 252768.53891053, 263283.27845488, 274090.46237402,\n",
       "       285186.42547406, 296566.47440917, 308224.86171798, 320154.76355069,\n",
       "       332348.26779091, 344796.36907851, 357488.97189048, 370414.90397194,\n",
       "       383561.94224161, 396916.84425756])"
      ]
     },
     "execution_count": 616,
     "metadata": {},
     "output_type": "execute_result"
    }
   ],
   "source": [
    "fitted = fit_odeint(time, *popt)\n",
    "fitted"
   ]
  },
  {
   "cell_type": "code",
   "execution_count": 617,
   "metadata": {
    "scrolled": true
   },
   "outputs": [],
   "source": [
    "popt, pcov = optimize.curve_fit(fit_odeint, time, ydata)\n",
    "perr = np.sqrt(np.diag(pcov))\n"
   ]
  },
  {
   "cell_type": "code",
   "execution_count": 618,
   "metadata": {
    "scrolled": true
   },
   "outputs": [
    {
     "data": {
      "image/png": "[encoded data removed]",
      "text/plain": [
       "<Figure size 864x1080 with 1 Axes>"
      ]
     },
     "metadata": {},
     "output_type": "display_data"
    },
    {
     "name": "stdout",
     "output_type": "stream",
     "text": [
      "Optimal Parameters : beta =  0.05199252788712444 gamma =  -0.0018700690655557481\n",
      "Reproduction number, R0 :  -27.80246400775218\n"
     ]
    }
   ],
   "source": [
    "plt.semilogy(time, ydata, 'o')                 #true data\n",
    "plt.semilogy(time, fitted)                     #fitted data\n",
    "plt.title('SIR model for Germany')\n",
    "plt.ylabel('Number of infected people')\n",
    "plt.xlabel('Days')\n",
    "plt.show()\n",
    "\n",
    "print('Optimal Parameters : beta = ', popt[0], 'gamma = ', popt[1])\n",
    "print('Reproduction number, R0 : ', popt[0]/popt[1])"
   ]
  },
  {
   "cell_type": "markdown",
   "metadata": {},
   "source": [
    "## Dynamic Beta "
   ]
  },
  {
   "cell_type": "code",
   "execution_count": null,
   "metadata": {},
   "outputs": [],
   "source": []
  },
  {
   "cell_type": "code",
   "execution_count": 592,
   "metadata": {},
   "outputs": [
    {
     "data": {
      "text/plain": [
       "array([0.2150165 , 0.2150165 , 0.2150165 , 0.2150165 , 0.2150165 ,\n",
       "       0.2150165 , 0.2150165 , 0.2150165 , 0.2150165 , 0.2150165 ,\n",
       "       0.2150165 , 0.2150165 , 0.2150165 , 0.2150165 , 0.2150165 ,\n",
       "       0.2150165 , 0.20693831, 0.19886012, 0.19078192, 0.18270373,\n",
       "       0.17462554, 0.16654735, 0.15846915, 0.15039096, 0.14231277,\n",
       "       0.13423458, 0.12615638, 0.11807819, 0.11      , 0.11      ,\n",
       "       0.11      , 0.11      , 0.11      , 0.11      , 0.11      ,\n",
       "       0.11      , 0.11      , 0.11      , 0.11      , 0.11      ,\n",
       "       0.11      , 0.11      , 0.11      , 0.11      , 0.11      ,\n",
       "       0.11      , 0.11      , 0.11      , 0.11      , 0.11      ])"
      ]
     },
     "execution_count": 592,
     "metadata": {},
     "output_type": "execute_result"
    }
   ],
   "source": [
    "t_initial = 15\n",
    "t_intro_measures = 14\n",
    "t_hold = 21\n",
    "t_relax = 0\n",
    "\n",
    "beta_max = popt[0]\n",
    "beta_min = 0.11\n",
    "gamma = popt[1]\n",
    "\n",
    "\n",
    "pd_beta = np.concatenate((np.array(t_initial*[beta_max]),\n",
    "                          np.linspace(beta_max, beta_min, t_intro_measures),\n",
    "                          np.array(t_hold * [beta_min]),\n",
    "                          np.linspace(beta_min, beta_max, t_relax)\n",
    "                        ))\n",
    "\n",
    "pd_beta"
   ]
  },
  {
   "cell_type": "code",
   "execution_count": 593,
   "metadata": {},
   "outputs": [],
   "source": [
    "def SIR_model(SIR, beta, gamma):\n",
    "    \n",
    "    S,I,R = SIR\n",
    "    dS = -beta * S * I/N0\n",
    "    dI = beta * S * I/N0 - gamma * I\n",
    "    dR = gamma * I\n",
    "    \n",
    "    return([dS, dI, dR])"
   ]
  },
  {
   "cell_type": "code",
   "execution_count": 594,
   "metadata": {},
   "outputs": [],
   "source": [
    "SIR = np.array([S0,I0,R0])\n",
    "\n",
    "propagation_rates = pd.DataFrame(columns={'Susceptible':S0,\n",
    "                                          'Infected':I0,\n",
    "                                          'Recovered':R0                                                  \n",
    "                                         })\n",
    "                                 \n",
    "for each_beta in pd_beta:\n",
    "    new_delta_vector = SIR_model(SIR, each_beta, gamma)\n",
    "    SIR = SIR + new_delta_vector\n",
    "    \n",
    "    propagation_rates = propagation_rates.append({'Susceptible':SIR[0],\n",
    "                                                  'Infected':SIR[1],\n",
    "                                                  'Recovered':SIR[2],                         \n",
    "                                                },ignore_index=True\n",
    "                                                )\n",
    "                                 \n",
    "\n"
   ]
  },
  {
   "cell_type": "code",
   "execution_count": 595,
   "metadata": {},
   "outputs": [
    {
     "data": {
      "text/plain": [
       "<matplotlib.legend.Legend at 0x7f519a15f9e8>"
      ]
     },
     "execution_count": 595,
     "metadata": {},
     "output_type": "execute_result"
    },
    {
     "data": {
      "image/png": "[encoded data removed]",
      "text/plain": [
       "<Figure size 864x1080 with 1 Axes>"
      ]
     },
     "metadata": {},
     "output_type": "display_data"
    }
   ],
   "source": [
    "fig, ax1 = plt.subplots(1,1)\n",
    "\n",
    "ax1.plot(propagation_rates.index, propagation_rates.Infected, label = 'Infected', linewidth = 3)\n",
    "#ax1.plot(propagation_rates.index, propagation_rates.Recovered, label = 'Recovered')\n",
    "#ax1.plot(propagation_rates.index, propagation_rates.Susceptible, label = 'Susceptible')\n",
    "\n",
    "ax1.bar(np.arange(len(ydata)), ydata, width=2, label = 'Actual cases in Germany', color = 'r')\n",
    "t_phases = np.array([t_initial, t_intro_measures, t_hold, t_relax]).cumsum()\n",
    "\n",
    "ax1.axvspan(0, t_phases[0], facecolor='b', alpha=0.2, label=\"No Measures\")\n",
    "ax1.axvspan(t_phases[0], t_phases[1], facecolor='b', alpha=0.3, label=\"Hard Measures\")\n",
    "ax1.axvspan(t_phases[1], t_phases[2], facecolor='b', alpha=0.4, label=\"Holding Measures\")\n",
    "ax1.axvspan(t_phases[2], t_phases[3], facecolor='b', alpha=0.5, label=\"Relaxed Measures\")\n",
    "ax1.axvspan(t_phases[3], len(propagation_rates.Infected),facecolor='b', alpha=0.6, label=\"Hard Measures Again\")\n",
    "\n",
    "ax1.set_ylim(10,1.5*max(propagation_rates.Infected))\n",
    "#ax1.set_xlim(0,100)\n",
    "ax1.set_yscale('log')\n",
    "ax1.set_title('SIR Simulation', size= 16)\n",
    "ax1.set_xlabel('Number of days', size=16)\n",
    "ax1.legend(loc='best',\n",
    "          prop={'size':16})"
   ]
  },
  {
   "cell_type": "code",
   "execution_count": null,
   "metadata": {},
   "outputs": [],
   "source": []
  },
  {
   "cell_type": "code",
   "execution_count": null,
   "metadata": {},
   "outputs": [],
   "source": []
  },
  {
   "cell_type": "code",
   "execution_count": null,
   "metadata": {},
   "outputs": [],
   "source": []
  }
 ],
 "metadata": {
  "kernelspec": {
   "display_name": "Python 3",
   "language": "python",
   "name": "python3"
  },
  "language_info": {
   "codemirror_mode": {
    "name": "ipython",
    "version": 3
   },
   "file_extension": ".py",
   "mimetype": "text/x-python",
   "name": "python",
   "nbconvert_exporter": "python",
   "pygments_lexer": "ipython3",
   "version": "3.6.3"
  }
 },
 "nbformat": 4,
 "nbformat_minor": 2
}
