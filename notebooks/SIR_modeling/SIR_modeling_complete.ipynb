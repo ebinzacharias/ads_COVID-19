{
 "cells": [
  {
   "cell_type": "code",
   "execution_count": 2,
   "metadata": {},
   "outputs": [
    {
     "data": {
      "text/plain": [
       "'4.5.0'"
      ]
     },
     "execution_count": 2,
     "metadata": {},
     "output_type": "execute_result"
    }
   ],
   "source": [
    "%matplotlib inline\n",
    "\n",
    "import pandas as pd\n",
    "import numpy as np\n",
    "from datetime import datetime\n",
    "\n",
    "import matplotlib as mpl\n",
    "import matplotlib.pyplot as plt\n",
    "\n",
    "import seaborn as sns\n",
    "\n",
    "import plotly.graph_objs as go\n",
    "import plotly\n",
    "plotly.__version__"
   ]
  },
  {
   "cell_type": "code",
   "execution_count": 325,
   "metadata": {},
   "outputs": [],
   "source": [
    "sns.set(style='darkgrid')\n",
    "mpl.rcParams['figure.figsize'] = (12,15)"
   ]
  },
  {
   "cell_type": "code",
   "execution_count": 326,
   "metadata": {},
   "outputs": [],
   "source": [
    "dataPath_Raw = (\"data/COVID_Flat_Table_Complete.csv\")\n",
    "#dataPath_Processed = (\"../data/processed/\")\n",
    "\n",
    "pd.set_option(\"display.max_rows\", 500)"
   ]
  },
  {
   "cell_type": "code",
   "execution_count": 327,
   "metadata": {},
   "outputs": [
    {
     "data": {
      "text/html": [
       "<div>\n",
       "<style scoped>\n",
       "    .dataframe tbody tr th:only-of-type {\n",
       "        vertical-align: middle;\n",
       "    }\n",
       "\n",
       "    .dataframe tbody tr th {\n",
       "        vertical-align: top;\n",
       "    }\n",
       "\n",
       "    .dataframe thead th {\n",
       "        text-align: right;\n",
       "    }\n",
       "</style>\n",
       "<table border=\"1\" class=\"dataframe\">\n",
       "  <thead>\n",
       "    <tr style=\"text-align: right;\">\n",
       "      <th></th>\n",
       "      <th>date</th>\n",
       "      <th>Italy</th>\n",
       "      <th>US</th>\n",
       "      <th>Spain</th>\n",
       "      <th>Germany</th>\n",
       "      <th>India</th>\n",
       "      <th>Korea, South</th>\n",
       "      <th>China</th>\n",
       "      <th>Brazil</th>\n",
       "      <th>Afghanistan</th>\n",
       "      <th>...</th>\n",
       "      <th>Burundi</th>\n",
       "      <th>Sierra Leone</th>\n",
       "      <th>Malawi</th>\n",
       "      <th>South Sudan</th>\n",
       "      <th>Western Sahara</th>\n",
       "      <th>Sao Tome and Principe</th>\n",
       "      <th>Yemen</th>\n",
       "      <th>Comoros</th>\n",
       "      <th>Tajikistan</th>\n",
       "      <th>Lesotho</th>\n",
       "    </tr>\n",
       "  </thead>\n",
       "  <tbody>\n",
       "    <tr>\n",
       "      <th>145</th>\n",
       "      <td>2020-06-15</td>\n",
       "      <td>237290</td>\n",
       "      <td>2114026</td>\n",
       "      <td>244109</td>\n",
       "      <td>187682</td>\n",
       "      <td>343091</td>\n",
       "      <td>12155</td>\n",
       "      <td>84378</td>\n",
       "      <td>888271</td>\n",
       "      <td>25527</td>\n",
       "      <td>...</td>\n",
       "      <td>85</td>\n",
       "      <td>1176</td>\n",
       "      <td>555</td>\n",
       "      <td>1693</td>\n",
       "      <td>9</td>\n",
       "      <td>662</td>\n",
       "      <td>844</td>\n",
       "      <td>176</td>\n",
       "      <td>5097</td>\n",
       "      <td>4</td>\n",
       "    </tr>\n",
       "    <tr>\n",
       "      <th>146</th>\n",
       "      <td>2020-06-16</td>\n",
       "      <td>237500</td>\n",
       "      <td>2137731</td>\n",
       "      <td>244328</td>\n",
       "      <td>188252</td>\n",
       "      <td>354065</td>\n",
       "      <td>12198</td>\n",
       "      <td>84422</td>\n",
       "      <td>923189</td>\n",
       "      <td>26310</td>\n",
       "      <td>...</td>\n",
       "      <td>104</td>\n",
       "      <td>1225</td>\n",
       "      <td>564</td>\n",
       "      <td>1776</td>\n",
       "      <td>9</td>\n",
       "      <td>671</td>\n",
       "      <td>885</td>\n",
       "      <td>197</td>\n",
       "      <td>5160</td>\n",
       "      <td>4</td>\n",
       "    </tr>\n",
       "    <tr>\n",
       "      <th>147</th>\n",
       "      <td>2020-06-17</td>\n",
       "      <td>237828</td>\n",
       "      <td>2163290</td>\n",
       "      <td>244683</td>\n",
       "      <td>188604</td>\n",
       "      <td>366946</td>\n",
       "      <td>12257</td>\n",
       "      <td>84458</td>\n",
       "      <td>955377</td>\n",
       "      <td>26874</td>\n",
       "      <td>...</td>\n",
       "      <td>104</td>\n",
       "      <td>1249</td>\n",
       "      <td>572</td>\n",
       "      <td>1813</td>\n",
       "      <td>9</td>\n",
       "      <td>683</td>\n",
       "      <td>902</td>\n",
       "      <td>197</td>\n",
       "      <td>5221</td>\n",
       "      <td>4</td>\n",
       "    </tr>\n",
       "    <tr>\n",
       "      <th>148</th>\n",
       "      <td>2020-06-18</td>\n",
       "      <td>238159</td>\n",
       "      <td>2191052</td>\n",
       "      <td>245268</td>\n",
       "      <td>189817</td>\n",
       "      <td>380532</td>\n",
       "      <td>12306</td>\n",
       "      <td>84494</td>\n",
       "      <td>978142</td>\n",
       "      <td>27532</td>\n",
       "      <td>...</td>\n",
       "      <td>104</td>\n",
       "      <td>1272</td>\n",
       "      <td>592</td>\n",
       "      <td>1830</td>\n",
       "      <td>9</td>\n",
       "      <td>688</td>\n",
       "      <td>909</td>\n",
       "      <td>210</td>\n",
       "      <td>5279</td>\n",
       "      <td>4</td>\n",
       "    </tr>\n",
       "    <tr>\n",
       "      <th>149</th>\n",
       "      <td>2020-06-19</td>\n",
       "      <td>238011</td>\n",
       "      <td>2220961</td>\n",
       "      <td>245575</td>\n",
       "      <td>190299</td>\n",
       "      <td>395048</td>\n",
       "      <td>12373</td>\n",
       "      <td>84494</td>\n",
       "      <td>1032913</td>\n",
       "      <td>27878</td>\n",
       "      <td>...</td>\n",
       "      <td>104</td>\n",
       "      <td>1298</td>\n",
       "      <td>620</td>\n",
       "      <td>1864</td>\n",
       "      <td>9</td>\n",
       "      <td>693</td>\n",
       "      <td>919</td>\n",
       "      <td>210</td>\n",
       "      <td>5338</td>\n",
       "      <td>4</td>\n",
       "    </tr>\n",
       "  </tbody>\n",
       "</table>\n",
       "<p>5 rows × 189 columns</p>\n",
       "</div>"
      ],
      "text/plain": [
       "           date   Italy       US   Spain  Germany   India  Korea, South  \\\n",
       "145  2020-06-15  237290  2114026  244109   187682  343091         12155   \n",
       "146  2020-06-16  237500  2137731  244328   188252  354065         12198   \n",
       "147  2020-06-17  237828  2163290  244683   188604  366946         12257   \n",
       "148  2020-06-18  238159  2191052  245268   189817  380532         12306   \n",
       "149  2020-06-19  238011  2220961  245575   190299  395048         12373   \n",
       "\n",
       "     China   Brazil  Afghanistan  ...  Burundi  Sierra Leone  Malawi  \\\n",
       "145  84378   888271        25527  ...       85          1176     555   \n",
       "146  84422   923189        26310  ...      104          1225     564   \n",
       "147  84458   955377        26874  ...      104          1249     572   \n",
       "148  84494   978142        27532  ...      104          1272     592   \n",
       "149  84494  1032913        27878  ...      104          1298     620   \n",
       "\n",
       "     South Sudan  Western Sahara  Sao Tome and Principe  Yemen  Comoros  \\\n",
       "145         1693               9                    662    844      176   \n",
       "146         1776               9                    671    885      197   \n",
       "147         1813               9                    683    902      197   \n",
       "148         1830               9                    688    909      210   \n",
       "149         1864               9                    693    919      210   \n",
       "\n",
       "     Tajikistan  Lesotho  \n",
       "145        5097        4  \n",
       "146        5160        4  \n",
       "147        5221        4  \n",
       "148        5279        4  \n",
       "149        5338        4  \n",
       "\n",
       "[5 rows x 189 columns]"
      ]
     },
     "execution_count": 327,
     "metadata": {},
     "output_type": "execute_result"
    }
   ],
   "source": [
    "df_analyse = pd.read_csv(dataPath_Raw, sep=\",\")\n",
    "df_analyse.sort_values('date', ascending = True).tail()"
   ]
  },
  {
   "cell_type": "code",
   "execution_count": 328,
   "metadata": {},
   "outputs": [
    {
     "name": "stdout",
     "output_type": "stream",
     "text": [
      "150\n"
     ]
    }
   ],
   "source": [
    "df_analyse.Germany;\n",
    "a = len(df_analyse.Germany)\n",
    "print(a)"
   ]
  },
  {
   "cell_type": "code",
   "execution_count": 329,
   "metadata": {},
   "outputs": [
    {
     "name": "stdout",
     "output_type": "stream",
     "text": [
      "82999850\n"
     ]
    }
   ],
   "source": [
    "N0 = 83000000\n",
    "beta = 0.4\n",
    "gamma = 0.1\n",
    "\n",
    "# Reproduction number beta/gamma\n",
    "\n",
    "# S + I + R = N\n",
    "\n",
    "I0 = a\n",
    "S0 = N0 - I0\n",
    "R0 = 0\n",
    "\n",
    "print(S0)"
   ]
  },
  {
   "cell_type": "code",
   "execution_count": 330,
   "metadata": {},
   "outputs": [],
   "source": [
    "def SIR_model(SIR, beta, gamma):\n",
    "    \n",
    "    S,I,R = SIR\n",
    "    dS = -beta * S * I/N0\n",
    "    dI = beta * S * I/N0 - gamma * I\n",
    "    dR = gamma * I\n",
    "    \n",
    "    return([dS, dI, dR])\n",
    "    "
   ]
  },
  {
   "cell_type": "code",
   "execution_count": 331,
   "metadata": {},
   "outputs": [],
   "source": [
    "SIR = np.array([S0,I0,R0])\n",
    "\n",
    "propagation_rates = pd.DataFrame(columns={'Susceptible':S0,\n",
    "                                          'Infected':I0,\n",
    "                                          'Recovered':R0                                                  \n",
    "                                         })\n",
    "                                 \n",
    "for each in np.arange(100):\n",
    "    new_delta_vector = SIR_model(SIR, beta, gamma)\n",
    "    SIR = SIR + new_delta_vector\n",
    "    \n",
    "    propagation_rates = propagation_rates.append({'Susceptible':SIR[0],\n",
    "                                                  'Infected':SIR[1],\n",
    "                                                  'Recovered':SIR[2],                         \n",
    "                                                },ignore_index=True\n",
    "                                                )\n",
    "                                 \n",
    "\n"
   ]
  },
  {
   "cell_type": "code",
   "execution_count": 332,
   "metadata": {},
   "outputs": [
    {
     "data": {
      "text/plain": [
       "<matplotlib.legend.Legend at 0x7f0d0971bcf8>"
      ]
     },
     "execution_count": 332,
     "metadata": {},
     "output_type": "execute_result"
    },
    {
     "data": {
      "image/png": "[encoded data removed]",
      "text/plain": [
       "<Figure size 864x1080 with 1 Axes>"
      ]
     },
     "metadata": {},
     "output_type": "display_data"
    }
   ],
   "source": [
    "fig, ax1 = plt.subplots(1,1)\n",
    "\n",
    "ax1.plot(propagation_rates.index, propagation_rates.Infected, label = 'Infected', color= 'k')\n",
    "ax1.plot(propagation_rates.index, propagation_rates.Recovered, label = 'Recovered')\n",
    "ax1.plot(propagation_rates.index, propagation_rates.Susceptible, label = 'Susceptible')\n",
    "\n",
    "ax1.set_ylim(10,1000000)\n",
    "ax1.set_xlim(0,100)\n",
    "ax1.set_yscale('linear')\n",
    "ax1.set_title('SIR Simulation', size= 16)\n",
    "ax1.set_xlabel('Number of days', size=16)\n",
    "ax1.legend(loc='best',\n",
    "          prop={'size':16})"
   ]
  },
  {
   "cell_type": "markdown",
   "metadata": {},
   "source": [
    "## Fitting the parameters"
   ]
  },
  {
   "cell_type": "code",
   "execution_count": 333,
   "metadata": {},
   "outputs": [],
   "source": [
    "from scipy import optimize\n",
    "from scipy import integrate"
   ]
  },
  {
   "cell_type": "code",
   "execution_count": 334,
   "metadata": {},
   "outputs": [],
   "source": [
    "ydata = np.array(df_analyse.US[90:])   #90\n",
    "time = np.arange(len(ydata))"
   ]
  },
  {
   "cell_type": "code",
   "execution_count": 335,
   "metadata": {},
   "outputs": [
    {
     "data": {
      "text/plain": [
       "0.4"
      ]
     },
     "execution_count": 335,
     "metadata": {},
     "output_type": "execute_result"
    }
   ],
   "source": [
    "I0 = ydata[0]\n",
    "S0 = 328000000\n",
    "R0 = 0\n",
    "beta"
   ]
  },
  {
   "cell_type": "code",
   "execution_count": 336,
   "metadata": {},
   "outputs": [
    {
     "name": "stdout",
     "output_type": "stream",
     "text": [
      "809213\n"
     ]
    }
   ],
   "source": [
    "print(I0)"
   ]
  },
  {
   "cell_type": "code",
   "execution_count": 337,
   "metadata": {},
   "outputs": [],
   "source": [
    "def SIR_model_fit(SIR, time, beta, gamma):\n",
    "    \n",
    "    S,I,R = SIR\n",
    "    dS = -beta * S * I/N0\n",
    "    dI = beta * S * I/N0 - gamma * I\n",
    "    dR = gamma * I\n",
    "    \n",
    "    return([dS, dI, dR])\n",
    "    "
   ]
  },
  {
   "cell_type": "code",
   "execution_count": 338,
   "metadata": {},
   "outputs": [],
   "source": [
    "def fit_odeint(x,beta,gamma):\n",
    "    return integrate.odeint(SIR_model_fit, (S0,I0,R0), time, args=(beta, gamma))[:,1]\n",
    "\n",
    "# [,:1] infected rate"
   ]
  },
  {
   "cell_type": "code",
   "execution_count": 339,
   "metadata": {},
   "outputs": [
    {
     "data": {
      "text/plain": [
       "array([8.09213000e+05, 3.53836367e+06, 1.49918676e+07, 5.61753288e+07,\n",
       "       1.47975985e+08, 2.29821243e+08, 2.50771762e+08, 2.40136372e+08,\n",
       "       2.21172755e+08, 2.01341828e+08, 1.82597170e+08, 1.65375886e+08,\n",
       "       1.49701226e+08, 1.35482823e+08, 1.22602853e+08, 1.10942106e+08,\n",
       "       1.00387982e+08, 9.08367013e+07, 8.21935534e+07, 7.43724757e+07,\n",
       "       6.72954238e+07, 6.08916953e+07, 5.50972715e+07, 4.98542027e+07,\n",
       "       4.51100403e+07, 4.08173195e+07, 3.69330879e+07, 3.34184777e+07,\n",
       "       3.02383181e+07, 2.73607844e+07, 2.47570796e+07, 2.24011464e+07,\n",
       "       2.02694072e+07, 1.83405278e+07, 1.65952038e+07, 1.50159680e+07,\n",
       "       1.35870153e+07, 1.22940446e+07, 1.11241156e+07, 1.00655196e+07,\n",
       "       9.10766173e+06, 8.24095572e+06, 7.45672735e+06, 6.74712790e+06,\n",
       "       6.10505551e+06, 5.52408418e+06, 4.99839940e+06, 4.52273999e+06,\n",
       "       4.09234542e+06, 3.70290819e+06, 3.35053071e+06, 3.03168629e+06,\n",
       "       2.74318385e+06, 2.48213597e+06, 2.24593003e+06, 2.03220200e+06,\n",
       "       1.83881283e+06, 1.66382702e+06, 1.50549329e+06, 1.36222696e+06])"
      ]
     },
     "execution_count": 339,
     "metadata": {},
     "output_type": "execute_result"
    }
   ],
   "source": [
    "# Integrate\n",
    "\n",
    "popt = [0.4, 0.1]  #beta, gamma\n",
    "\n",
    "fit_odeint(time, *popt)"
   ]
  },
  {
   "cell_type": "code",
   "execution_count": 340,
   "metadata": {},
   "outputs": [],
   "source": [
    "popt, pcov = optimize.curve_fit(fit_odeint, time, ydata)\n",
    "perr = np.sqrt(np.diag(pcov))\n"
   ]
  },
  {
   "cell_type": "code",
   "execution_count": 341,
   "metadata": {},
   "outputs": [
    {
     "name": "stdout",
     "output_type": "stream",
     "text": [
      "Standard deviation errors :  [0.00146802 0.00548592] Infection Start :  809213\n"
     ]
    }
   ],
   "source": [
    "print('Standard deviation errors : ', str(perr), 'Infection Start : ', ydata[0])\n"
   ]
  },
  {
   "cell_type": "code",
   "execution_count": 342,
   "metadata": {},
   "outputs": [],
   "source": [
    "fitted = fit_odeint(time, *popt)"
   ]
  },
  {
   "cell_type": "code",
   "execution_count": 343,
   "metadata": {},
   "outputs": [
    {
     "data": {
      "image/png": "[encoded data removed]",
      "text/plain": [
       "<Figure size 864x1080 with 1 Axes>"
      ]
     },
     "metadata": {},
     "output_type": "display_data"
    },
    {
     "name": "stdout",
     "output_type": "stream",
     "text": [
      "Optimal Parameters : beta =  0.07578264602066746 gamma =  0.27286813452937564\n",
      "Reproduction number, R0 :  0.27772625833123465\n"
     ]
    }
   ],
   "source": [
    "plt.semilogy(time, ydata, 'o')\n",
    "plt.semilogy(time, fitted)\n",
    "plt.title('SIR model for Germany')\n",
    "plt.ylabel('Number of infected people')\n",
    "plt.xlabel('Days')\n",
    "plt.show()\n",
    "\n",
    "beta_fit = popt[0]\n",
    "gamma_fit = popt[1]\n",
    "\n",
    "print('Optimal Parameters : beta = ', popt[0], 'gamma = ', popt[1])\n",
    "print('Reproduction number, R0 : ', popt[0]/popt[1])"
   ]
  },
  {
   "cell_type": "code",
   "execution_count": null,
   "metadata": {},
   "outputs": [],
   "source": []
  },
  {
   "cell_type": "code",
   "execution_count": 348,
   "metadata": {},
   "outputs": [
    {
     "name": "stdout",
     "output_type": "stream",
     "text": [
      "/home/ubuntu/Desktop/DataScience/ads_covid-19/notebooks/SIR_modeling\n",
      "Running on http://127.0.0.1:8050/\n",
      "Running on http://127.0.0.1:8050/\n",
      "Running on http://127.0.0.1:8050/\n",
      "Running on http://127.0.0.1:8050/\n",
      "Running on http://127.0.0.1:8050/\n",
      "Debugger PIN: 199-842-666\n",
      "Debugger PIN: 199-842-666\n",
      "Debugger PIN: 199-842-666\n",
      "Debugger PIN: 199-842-666\n",
      "Debugger PIN: 199-842-666\n",
      " * Serving Flask app \"__main__\" (lazy loading)\n",
      " * Environment: production\n",
      "\u001b[31m   WARNING: This is a development server. Do not use it in a production deployment.\u001b[0m\n",
      "\u001b[2m   Use a production WSGI server instead.\u001b[0m\n",
      " * Debug mode: on\n"
     ]
    }
   ],
   "source": [
    "# %load ../src/visualization/visualize.py\n",
    "import pandas as pd\n",
    "import numpy as np\n",
    "\n",
    "import dash\n",
    "dash.__version__\n",
    "import dash_core_components as dcc\n",
    "import dash_html_components as html\n",
    "from dash.dependencies import Input, Output,State\n",
    "\n",
    "import plotly.graph_objects as go\n",
    "\n",
    "import os\n",
    "print(os.getcwd())\n",
    "\n",
    "# COVID_final_set_TEST - Doubling rate modified for preventing breaks in the graph\n",
    "\n",
    "df_input_large=pd.read_csv('/home/ubuntu/Desktop/DataScience/ads_covid-19/data/processed/COVID_final_set.csv',sep=',', error_bad_lines=False)\n",
    "\n",
    "\n",
    "fig = go.Figure()\n",
    "\n",
    "app = dash.Dash()\n",
    "app.layout = html.Div([\n",
    "\n",
    "    dcc.Markdown('''\n",
    "    #  Applied Data Science on COVID-19 data\n",
    "\n",
    "    Goal of the project is to teach data science by applying a cross industry standard process,\n",
    "    it covers the full walkthrough of: automated data gathering, data transformations,\n",
    "    filtering and machine learning to approximating the doubling time, and\n",
    "    (static) deployment of responsive dashboard.\n",
    "\n",
    "    '''),\n",
    "\n",
    "    dcc.Markdown('''\n",
    "    ## Multi-Select Country for visualization\n",
    "    '''),\n",
    "\n",
    "\n",
    "    dcc.Dropdown(\n",
    "        id='country_drop_down',\n",
    "        options=[ {'label': each,'value':each} for each in df_input_large['country'].unique()],\n",
    "        value=['US', 'Germany','Italy'], # which are pre-selected # 'United Kingdom', 'Spain'\n",
    "        multi=True\n",
    "    ),\n",
    "\n",
    "    dcc.Markdown('''\n",
    "        ## Select Timeline of confirmed COVID-19 cases or the approximated doubling time\n",
    "        '''),\n",
    "\n",
    "\n",
    "    dcc.Dropdown(\n",
    "    id='doubling_time',\n",
    "    options=[\n",
    "        {'label': 'Timeline Confirmed ', 'value': 'confirmed'},\n",
    "\n",
    "    ],\n",
    "    value='confirmed',\n",
    "    multi=False\n",
    "    ),\n",
    "\n",
    "    dcc.Graph(figure=fig, id='main_window_slope')\n",
    "])\n",
    "\n",
    "\n",
    "\n",
    "@app.callback(\n",
    "    Output('main_window_slope', 'figure'),\n",
    "    [Input('country_drop_down', 'value'),\n",
    "    Input('doubling_time', 'value')])\n",
    "def update_figure(country_list,show_doubling):\n",
    "\n",
    "    #print(show_doubling)\n",
    "    if '_DR' in show_doubling:\n",
    "        my_yaxis={'type':\"log\",\n",
    "               'title':'Approximated doubling rate over 3 days (larger numbers are better #stayathome)'\n",
    "              }\n",
    "    else:\n",
    "        my_yaxis={'type':\"log\",\n",
    "                  'title':'Confirmed infected people (source johns hopkins csse, log-scale)'\n",
    "              }\n",
    "\n",
    "\n",
    "    traces = []\n",
    "    for each in country_list:\n",
    "\n",
    "        df_plot=df_input_large[df_input_large['country']==each]\n",
    "\n",
    "        if show_doubling=='confirmed_filtered_DR':\n",
    "            df_plot=df_plot[['state','country','confirmed','confirmed_filtered','confirmed_DR','confirmed_filtered_DR','date']].groupby(['country','date']).agg(np.mean).reset_index()\n",
    "        else:\n",
    "            df_plot=df_plot[['state','country','confirmed','confirmed_filtered','confirmed_DR','confirmed_filtered_DR','date']].groupby(['country','date']).agg(np.sum).reset_index()\n",
    "            #print(show_doubling)\n",
    "\n",
    "\n",
    "        traces.append(dict(x=df_plot.date,\n",
    "                                y=df_plot[show_doubling],\n",
    "                                mode='markers+lines',\n",
    "                                opacity=0.9,\n",
    "                                name=each\n",
    "                        )\n",
    "                )\n",
    "\n",
    "    return {\n",
    "            'data': traces,\n",
    "            'layout': dict (\n",
    "                width=1280,\n",
    "                height=720,\n",
    "\n",
    "                xaxis={'title':'Timeline',\n",
    "                        'tickangle':-45,\n",
    "                        'nticks':20,\n",
    "                        'tickfont':dict(size=14,color=\"#7f7f7f\"),\n",
    "                      },\n",
    "\n",
    "                yaxis=my_yaxis\n",
    "        )\n",
    "    }\n",
    "\n",
    "if __name__ == '__main__':\n",
    "\n",
    "    app.run_server(debug=True, use_reloader=False)\n"
   ]
  },
  {
   "cell_type": "code",
   "execution_count": null,
   "metadata": {},
   "outputs": [],
   "source": []
  }
 ],
 "metadata": {
  "kernelspec": {
   "display_name": "Python 3",
   "language": "python",
   "name": "python3"
  },
  "language_info": {
   "codemirror_mode": {
    "name": "ipython",
    "version": 3
   },
   "file_extension": ".py",
   "mimetype": "text/x-python",
   "name": "python",
   "nbconvert_exporter": "python",
   "pygments_lexer": "ipython3",
   "version": "3.6.3"
  }
 },
 "nbformat": 4,
 "nbformat_minor": 2
}
