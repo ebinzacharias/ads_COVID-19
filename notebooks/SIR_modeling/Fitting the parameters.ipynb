{
 "cells": [
  {
   "cell_type": "markdown",
   "metadata": {},
   "source": [
    "## Fitting the parameters"
   ]
  },
  {
   "cell_type": "code",
   "execution_count": 1,
   "metadata": {},
   "outputs": [
    {
     "data": {
      "text/plain": [
       "'4.5.0'"
      ]
     },
     "execution_count": 1,
     "metadata": {},
     "output_type": "execute_result"
    }
   ],
   "source": [
    "%matplotlib inline\n",
    "\n",
    "import pandas as pd\n",
    "import numpy as np\n",
    "from datetime import datetime\n",
    "\n",
    "import matplotlib as mpl\n",
    "import matplotlib.pyplot as plt\n",
    "\n",
    "import seaborn as sns\n",
    "\n",
    "import plotly.graph_objs as go\n",
    "import plotly\n",
    "plotly.__version__"
   ]
  },
  {
   "cell_type": "code",
   "execution_count": 2,
   "metadata": {},
   "outputs": [],
   "source": [
    "sns.set(style='darkgrid')\n",
    "mpl.rcParams['figure.figsize'] = (16,12)"
   ]
  },
  {
   "cell_type": "code",
   "execution_count": 3,
   "metadata": {},
   "outputs": [],
   "source": [
    "dataPath_Raw = (\"data/COVID_Flat_Table.csv\")\n",
    "#dataPath_Processed = (\"../data/processed/\")\n",
    "\n",
    "pd.set_option(\"display.max_rows\", 500)"
   ]
  },
  {
   "cell_type": "code",
   "execution_count": 4,
   "metadata": {
    "scrolled": true
   },
   "outputs": [
    {
     "data": {
      "text/html": [
       "<div>\n",
       "<style scoped>\n",
       "    .dataframe tbody tr th:only-of-type {\n",
       "        vertical-align: middle;\n",
       "    }\n",
       "\n",
       "    .dataframe tbody tr th {\n",
       "        vertical-align: top;\n",
       "    }\n",
       "\n",
       "    .dataframe thead th {\n",
       "        text-align: right;\n",
       "    }\n",
       "</style>\n",
       "<table border=\"1\" class=\"dataframe\">\n",
       "  <thead>\n",
       "    <tr style=\"text-align: right;\">\n",
       "      <th></th>\n",
       "      <th>date</th>\n",
       "      <th>Italy</th>\n",
       "      <th>US</th>\n",
       "      <th>Spain</th>\n",
       "      <th>Germany</th>\n",
       "      <th>India</th>\n",
       "      <th>Korea, South</th>\n",
       "      <th>China</th>\n",
       "      <th>Brazil</th>\n",
       "    </tr>\n",
       "  </thead>\n",
       "  <tbody>\n",
       "    <tr>\n",
       "      <th>0</th>\n",
       "      <td>2020-01-22</td>\n",
       "      <td>0</td>\n",
       "      <td>1</td>\n",
       "      <td>0</td>\n",
       "      <td>0</td>\n",
       "      <td>0</td>\n",
       "      <td>1</td>\n",
       "      <td>548</td>\n",
       "      <td>0</td>\n",
       "    </tr>\n",
       "    <tr>\n",
       "      <th>1</th>\n",
       "      <td>2020-01-23</td>\n",
       "      <td>0</td>\n",
       "      <td>1</td>\n",
       "      <td>0</td>\n",
       "      <td>0</td>\n",
       "      <td>0</td>\n",
       "      <td>1</td>\n",
       "      <td>643</td>\n",
       "      <td>0</td>\n",
       "    </tr>\n",
       "    <tr>\n",
       "      <th>2</th>\n",
       "      <td>2020-01-24</td>\n",
       "      <td>0</td>\n",
       "      <td>2</td>\n",
       "      <td>0</td>\n",
       "      <td>0</td>\n",
       "      <td>0</td>\n",
       "      <td>2</td>\n",
       "      <td>920</td>\n",
       "      <td>0</td>\n",
       "    </tr>\n",
       "    <tr>\n",
       "      <th>3</th>\n",
       "      <td>2020-01-25</td>\n",
       "      <td>0</td>\n",
       "      <td>2</td>\n",
       "      <td>0</td>\n",
       "      <td>0</td>\n",
       "      <td>0</td>\n",
       "      <td>2</td>\n",
       "      <td>1406</td>\n",
       "      <td>0</td>\n",
       "    </tr>\n",
       "    <tr>\n",
       "      <th>4</th>\n",
       "      <td>2020-01-26</td>\n",
       "      <td>0</td>\n",
       "      <td>5</td>\n",
       "      <td>0</td>\n",
       "      <td>0</td>\n",
       "      <td>0</td>\n",
       "      <td>3</td>\n",
       "      <td>2075</td>\n",
       "      <td>0</td>\n",
       "    </tr>\n",
       "  </tbody>\n",
       "</table>\n",
       "</div>"
      ],
      "text/plain": [
       "         date  Italy  US  Spain  Germany  India  Korea, South  China  Brazil\n",
       "0  2020-01-22      0   1      0        0      0             1    548       0\n",
       "1  2020-01-23      0   1      0        0      0             1    643       0\n",
       "2  2020-01-24      0   2      0        0      0             2    920       0\n",
       "3  2020-01-25      0   2      0        0      0             2   1406       0\n",
       "4  2020-01-26      0   5      0        0      0             3   2075       0"
      ]
     },
     "execution_count": 4,
     "metadata": {},
     "output_type": "execute_result"
    }
   ],
   "source": [
    "df_analyse = pd.read_csv(dataPath_Raw, sep=\",\")\n",
    "df_analyse.sort_values('date', ascending = True).head()"
   ]
  },
  {
   "cell_type": "code",
   "execution_count": 5,
   "metadata": {},
   "outputs": [],
   "source": [
    "from scipy import optimize\n",
    "from scipy import integrate"
   ]
  },
  {
   "cell_type": "code",
   "execution_count": 81,
   "metadata": {
    "scrolled": true
   },
   "outputs": [
    {
     "name": "stdout",
     "output_type": "stream",
     "text": [
      "71\n"
     ]
    }
   ],
   "source": [
    "ydata = np.array(df_analyse.Germany[70:])   #90\n",
    "time = np.arange(len(ydata))\n",
    "print(len(ydata))"
   ]
  },
  {
   "cell_type": "code",
   "execution_count": 82,
   "metadata": {},
   "outputs": [
    {
     "name": "stdout",
     "output_type": "stream",
     "text": [
      "922128\n"
     ]
    }
   ],
   "source": [
    "N0 = 8300000\n",
    "beta = 0.4\n",
    "gamma = 0.1\n",
    "\n",
    "I0 = ydata[0]\n",
    "S0 = N0 - I0\n",
    "R0 = 0\n",
    "\n",
    "print(S0)"
   ]
  },
  {
   "cell_type": "code",
   "execution_count": 83,
   "metadata": {},
   "outputs": [],
   "source": [
    "def SIR_model(SIR, time, beta, gamma):\n",
    "    \n",
    "    S,I,R = SIR\n",
    "    dS = -beta * S * I/N0\n",
    "    dI = beta * S * I/N0 - gamma * I\n",
    "    dR = gamma * I\n",
    "    \n",
    "    return([dS, dI, dR])\n",
    "    "
   ]
  },
  {
   "cell_type": "code",
   "execution_count": 84,
   "metadata": {},
   "outputs": [],
   "source": [
    "def fit_odeint(x,beta,gamma):\n",
    "    return integrate.odeint(SIR_model, (S0,I0,R0), time, args=(beta, gamma))[:,1]\n",
    "\n",
    "# [,:1] infected rate"
   ]
  },
  {
   "cell_type": "code",
   "execution_count": 85,
   "metadata": {},
   "outputs": [
    {
     "data": {
      "text/plain": [
       "array([ 77872.        , 101260.9596324 , 129786.79420899, 163437.5816775 ,\n",
       "       201548.37622902, 242657.11213013, 284540.97731312, 324494.59035382,\n",
       "       359803.73792603, 388256.50800909, 408504.22629123, 420165.09461961,\n",
       "       423690.33682781, 420097.92270767, 410688.13515942, 396814.39527858,\n",
       "       379734.13958752, 360532.14622838, 340095.89429271, 319122.25757441,\n",
       "       298139.76473297, 277536.28688261, 257586.48833397, 238476.33153628,\n",
       "       220323.71082492, 203195.1934237 , 187119.27409935, 172096.69374754,\n",
       "       158108.37346266, 145121.4561225 , 133093.86905032, 121977.7424361 ,\n",
       "       111721.94906886, 102273.971811  ,  93581.26044361,  85592.2002035 ,\n",
       "        78256.7868598 ,  71527.08084376,  65357.49563913,  59704.96266886,\n",
       "        54529.00487526,  49791.74352389,  45457.85694012,  41494.50538094,\n",
       "        37871.23280812,  34559.85375653,  31534.33111026,  28770.65005315,\n",
       "        26246.69068734,  23942.10231735,  21838.18109487,  19917.75209829,\n",
       "        18165.05671146,  16565.64583795,  15106.27921391,  13774.83083777,\n",
       "        12560.200563  ,  11452.23168165,  10441.63426295,   9519.91415432,\n",
       "         8679.30716176,   7912.71827675,   7213.66561837,   6576.22875314,\n",
       "         5995.00115486,   5465.04648531,   4981.85843544,   4541.32387524,\n",
       "         4139.6890435 ,   3773.52856159,   3439.7170483 ])"
      ]
     },
     "execution_count": 85,
     "metadata": {},
     "output_type": "execute_result"
    }
   ],
   "source": [
    "# Integrate\n",
    "# Parameters Optimized\n",
    "\n",
    "popt = [beta, gamma]  #beta, gamma\n",
    "\n",
    "fit_odeint(time, *popt)"
   ]
  },
  {
   "cell_type": "code",
   "execution_count": 86,
   "metadata": {},
   "outputs": [],
   "source": [
    "popt, pcov = optimize.curve_fit(fit_odeint, time, ydata)\n",
    "perr = np.sqrt(np.diag(pcov))"
   ]
  },
  {
   "cell_type": "code",
   "execution_count": 87,
   "metadata": {},
   "outputs": [
    {
     "name": "stdout",
     "output_type": "stream",
     "text": [
      "Standard deviation errors :  [0.00182845 0.0009517 ] Infection Start :  77872\n"
     ]
    }
   ],
   "source": [
    "print('Standard deviation errors : ', str(perr), 'Infection Start : ', ydata[0])\n"
   ]
  },
  {
   "cell_type": "code",
   "execution_count": 88,
   "metadata": {},
   "outputs": [],
   "source": [
    "fitted = fit_odeint(time, *popt)"
   ]
  },
  {
   "cell_type": "code",
   "execution_count": 89,
   "metadata": {},
   "outputs": [
    {
     "data": {
      "image/png": "[encoded data removed]",
      "text/plain": [
       "<Figure size 1152x864 with 1 Axes>"
      ]
     },
     "metadata": {},
     "output_type": "display_data"
    },
    {
     "name": "stdout",
     "output_type": "stream",
     "text": [
      "Optimal Parameters : beta =  0.08100234817786824 gamma =  0.041304243720225106\n",
      "Reproduction number, R0 :  1.9611144251069894\n"
     ]
    }
   ],
   "source": [
    "plt.semilogy(time, ydata, 'o')\n",
    "plt.semilogy(time, fitted)\n",
    "plt.title('SIR model for Germany')\n",
    "plt.ylabel('Number of infected people')\n",
    "plt.xlabel('Days')\n",
    "plt.show()\n",
    "\n",
    "print('Optimal Parameters : beta = ', popt[0], 'gamma = ', popt[1])\n",
    "print('Reproduction number, R0 : ', popt[0]/popt[1])"
   ]
  },
  {
   "cell_type": "markdown",
   "metadata": {},
   "source": [
    "## Dynamic Beta "
   ]
  },
  {
   "cell_type": "code",
   "execution_count": 78,
   "metadata": {},
   "outputs": [
    {
     "data": {
      "text/plain": [
       "array([0.04      , 0.04      , 0.04      , 0.04      , 0.04      ,\n",
       "       0.04      , 0.04      , 0.04      , 0.04      , 0.04      ,\n",
       "       0.04      , 0.04      , 0.04      , 0.04      , 0.04      ,\n",
       "       0.04      , 0.04      , 0.04      , 0.04      , 0.04      ,\n",
       "       0.04      , 0.04      , 0.04      , 0.03806667, 0.03613333,\n",
       "       0.0342    , 0.03226667, 0.03033333, 0.0284    , 0.02646667,\n",
       "       0.02453333, 0.0226    , 0.02066667, 0.01873333, 0.0168    ,\n",
       "       0.01486667, 0.01293333, 0.011     , 0.011     , 0.011     ,\n",
       "       0.011     , 0.011     , 0.011     , 0.011     , 0.011     ,\n",
       "       0.011     , 0.011     , 0.011     , 0.011     , 0.011     ,\n",
       "       0.011     , 0.011     , 0.011     , 0.011     , 0.011     ,\n",
       "       0.011     , 0.011     , 0.011     , 0.011     , 0.011     ,\n",
       "       0.01245   , 0.0139    , 0.01535   , 0.0168    , 0.01825   ,\n",
       "       0.0197    , 0.02115   , 0.0226    , 0.02405   , 0.0255    ,\n",
       "       0.02695   , 0.0284    , 0.02985   , 0.0313    , 0.03275   ,\n",
       "       0.0342    , 0.03565   , 0.0371    , 0.03855   , 0.04      ])"
      ]
     },
     "execution_count": 78,
     "metadata": {},
     "output_type": "execute_result"
    }
   ],
   "source": [
    "t_initial = 22\n",
    "t_intro_measures = 16\n",
    "t_hold = 21\n",
    "t_relax = 21\n",
    "\n",
    "beta_max = 0.04\n",
    "beta_min = 0.011\n",
    "gamma = 0.01\n",
    "\n",
    "\n",
    "pd_beta = np.concatenate((np.array(t_initial*[beta_max]),\n",
    "                          np.linspace(beta_max, beta_min, t_intro_measures),\n",
    "                          np.array(t_hold * [beta_min]),\n",
    "                          np.linspace(beta_min, beta_max, t_relax)\n",
    "                        ))\n",
    "\n",
    "pd_beta"
   ]
  },
  {
   "cell_type": "code",
   "execution_count": 79,
   "metadata": {},
   "outputs": [],
   "source": [
    "SIR = np.array([S0,I0,R0])\n",
    "\n",
    "propagation_rates = pd.DataFrame(columns={'Susceptible':S0,\n",
    "                                          'Infected':I0,\n",
    "                                          'Recovered':R0                                                  \n",
    "                                         })\n",
    "                                 \n",
    "for each_beta in pd_beta:\n",
    "    new_delta_vector = SIR_model(SIR, time, each_beta, gamma)\n",
    "    SIR = SIR + new_delta_vector\n",
    "    \n",
    "    propagation_rates = propagation_rates.append({'Susceptible':SIR[0],\n",
    "                                                  'Infected':SIR[1],\n",
    "                                                  'Recovered':SIR[2],                         \n",
    "                                                },ignore_index=True\n",
    "                                                )\n",
    "                                 \n",
    "\n"
   ]
  },
  {
   "cell_type": "code",
   "execution_count": 80,
   "metadata": {},
   "outputs": [
    {
     "data": {
      "text/plain": [
       "<matplotlib.legend.Legend at 0x7ff068ff6b00>"
      ]
     },
     "execution_count": 80,
     "metadata": {},
     "output_type": "execute_result"
    },
    {
     "data": {
      "image/png": "[encoded data removed]",
      "text/plain": [
       "<Figure size 1152x864 with 1 Axes>"
      ]
     },
     "metadata": {},
     "output_type": "display_data"
    }
   ],
   "source": [
    "fig, ax1 = plt.subplots(1,1)\n",
    "\n",
    "ax1.plot(propagation_rates.index, propagation_rates.Infected, label = 'Infected', linewidth = 3)\n",
    "\n",
    "ax1.bar(np.arange(len(ydata)), ydata, width=2, label = 'Actual cases in Germany', color = 'r')\n",
    "t_phases = np.array([t_initial, t_intro_measures, t_hold, t_relax]).cumsum()\n",
    "\n",
    "ax1.axvspan(0, t_phases[0], facecolor='b', alpha=0.01, label=\"No Measures\")\n",
    "ax1.axvspan(t_phases[0], t_phases[1], facecolor='b', alpha=0.3, label=\"Hard Measures\")\n",
    "ax1.axvspan(t_phases[1], t_phases[2], facecolor='b', alpha=0.5, label=\"Holding Measures\")\n",
    "ax1.axvspan(t_phases[2], t_phases[3], facecolor='b', alpha=0.7, label=\"Relaxed Measures\")\n",
    "ax1.axvspan(t_phases[3], len(propagation_rates.Infected),facecolor='b', alpha=0.6, label=\"Hard Measures Again\")\n",
    "\n",
    "ax1.set_ylim(10,1.5*max(propagation_rates.Infected))\n",
    "#ax1.set_xlim(0,100)\n",
    "ax1.set_yscale('log')\n",
    "ax1.set_title('SIR Simulation', size= 16)\n",
    "ax1.set_xlabel('Number of days', size=16)\n",
    "ax1.legend(loc='best',\n",
    "          prop={'size':16})"
   ]
  },
  {
   "cell_type": "code",
   "execution_count": null,
   "metadata": {},
   "outputs": [],
   "source": []
  },
  {
   "cell_type": "code",
   "execution_count": null,
   "metadata": {},
   "outputs": [],
   "source": []
  },
  {
   "cell_type": "code",
   "execution_count": null,
   "metadata": {},
   "outputs": [],
   "source": []
  }
 ],
 "metadata": {
  "kernelspec": {
   "display_name": "Python 3",
   "language": "python",
   "name": "python3"
  },
  "language_info": {
   "codemirror_mode": {
    "name": "ipython",
    "version": 3
   },
   "file_extension": ".py",
   "mimetype": "text/x-python",
   "name": "python",
   "nbconvert_exporter": "python",
   "pygments_lexer": "ipython3",
   "version": "3.6.3"
  }
 },
 "nbformat": 4,
 "nbformat_minor": 2
}
