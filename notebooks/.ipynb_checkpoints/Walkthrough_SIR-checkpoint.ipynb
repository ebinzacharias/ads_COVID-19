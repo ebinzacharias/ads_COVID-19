{
 "cells": [
  {
   "cell_type": "markdown",
   "metadata": {},
   "source": [
    "## Process pipeline"
   ]
  },
  {
   "cell_type": "code",
   "execution_count": 1,
   "metadata": {},
   "outputs": [],
   "source": [
    "import pandas as pd\n",
    "import numpy as np\n",
    "from datetime import datetime\n",
    "\n",
    "\n",
    "def store_flat_table():\n",
    "\n",
    "    dataPath_Raw = (\"../data/raw/COVID-19/csse_covid_19_data/csse_covid_19_time_series/time_series_covid19_confirmed_global.csv\")\n",
    "    dataPath_Processed = (\"../data/processed/\")\n",
    "\n",
    "    pd_raw = pd.read_csv(dataPath_Raw)\n",
    "    time_idX = pd_raw.columns[4:]\n",
    "\n",
    "    df_plot = pd.DataFrame({\n",
    "\n",
    "        'date':time_idX})\n",
    "\n",
    "    df_plot.head()\n",
    "    len(pd_raw['Country/Region'].unique())\n",
    "    pd_raw['Country/Region'].unique();\n",
    "\n",
    "    country_list = pd_raw['Country/Region'].unique()\n",
    "\n",
    "    for i in country_list:\n",
    "        df_plot[i] = np.array(pd_raw[pd_raw['Country/Region'] == i].iloc[:,4::].sum(axis=0))\n",
    "\n",
    "    datetime.strptime(df_plot.date[0], \"%m/%d/%y\")\n",
    "\n",
    "    #%y-%m-%d\n",
    "\n",
    "    #Convert the String to DateTime object\n",
    "\n",
    "    time_idX = [datetime.strptime(i, \"%m/%d/%y\") for i in df_plot.date] \n",
    "\n",
    "    # Converting back to ISO (str)\n",
    "\n",
    "    time_str = [i.strftime(\"%y-%m-%d\") for i in time_idX]\n",
    "\n",
    "    #time_idX\n",
    "\n",
    "    df_plot['date']=time_idX\n",
    "    type(df_plot[\"date\"][0])\n",
    "\n",
    "    df_plot.to_csv(dataPath_Processed + \"COVID_Flat_Table_complete.csv\", sep=\",\", index=False)\n",
    "\n",
    "if __name__ == '__main__':\n",
    "\n",
    "    store_flat_table()"
   ]
  },
  {
   "cell_type": "markdown",
   "metadata": {},
   "source": [
    "## Fitting the parameters of SIR model"
   ]
  },
  {
   "cell_type": "code",
   "execution_count": 49,
   "metadata": {},
   "outputs": [
    {
     "name": "stdout",
     "output_type": "stream",
     "text": [
      "Standard deviation errors : [0.00109818 0.00117646]  start infect: 31517\n",
      "Optimal parameters: beta =  -0.05752279702351777  and gamma =  -0.06229522588756908\n"
     ]
    },
    {
     "data": {
      "image/png": "[encoded data removed]",
      "text/plain": [
       "<Figure size 432x288 with 1 Axes>"
      ]
     },
     "metadata": {
      "needs_background": "light"
     },
     "output_type": "display_data"
    },
    {
     "name": "stdout",
     "output_type": "stream",
     "text": [
      "Optimal Parametes: beta =  -0.05752279702351777  and gamma =  -0.06229522588756908\n",
      "Reproduction number, R0 :  0.9233901347004564\n"
     ]
    }
   ],
   "source": [
    "import pandas as pd\n",
    "import numpy as np\n",
    "\n",
    "from datetime import datetime\n",
    "\n",
    "import matplotlib as mpl\n",
    "import matplotlib.pyplot as plt\n",
    "%matplotlib inline\n",
    "\n",
    "import seaborn as sns\n",
    "\n",
    "from scipy import optimize\n",
    "from scipy import integrate\n",
    "\n",
    "dataPath_Processed = (\"../data/processed/COVID_Flat_Table_complete.csv\")\n",
    "df_analyse = pd.read_csv(dataPath_Processed, sep=',')\n",
    "df_analyse.sort_values('date',ascending=True).head()\n",
    "\n",
    "country = \"Italy\"\n",
    "\n",
    "ydata = np.array(df_analyse.Afghanistan[160:])\n",
    "time=np.arange(len(ydata))\n",
    "\n",
    "I0 = ydata[0]\n",
    "N0 = 1000000\n",
    "\n",
    "S0 = N0-I0\n",
    "R0 = 0\n",
    "beta = 0.4\n",
    "gamma = 0.1\n",
    "\n",
    "\n",
    "\n",
    "def SIR_model(SIR,time,beta, gamma):\n",
    "    \n",
    "    S,I,R = SIR\n",
    "    dS_dt = -beta*S*I/N0\n",
    "    dI_dt = beta*S*I/N0-gamma*I\n",
    "    dR_dt = gamma*I\n",
    "    \n",
    "    return dS_dt,dI_dt,dR_dt\n",
    "\n",
    "\n",
    "\n",
    "def fit_odeint(x, beta, gamma):\n",
    "    return integrate.odeint(SIR_model, (S0,I0,R0), time, args=(beta,gamma))[:,1]\n",
    "\n",
    "popt = [beta,gamma]\n",
    "fit_odeint(time, *popt)\n",
    "\n",
    "popt,pcov = optimize.curve_fit(fit_odeint, time, ydata, maxfev=100000)\n",
    "perr = np.sqrt(np.diag(pcov))\n",
    "\n",
    "print('Standard deviation errors :', str(perr), ' start infect:', ydata[0])\n",
    "print('Optimal parameters: beta = ', popt[0], ' and gamma = ', popt[1])\n",
    "\n",
    "fitted = fit_odeint(time, popt[0], popt[1])\n",
    "\n",
    "plt.semilogy(time,ydata, 'o')\n",
    "plt.semilogy(time, fitted)\n",
    "plt.title(\"Fit of SIR model for cases in %s\" %country)\n",
    "plt.ylabel('Infected Population')\n",
    "plt.xlabel('Number of Days')\n",
    "plt.show()\n",
    "print('Optimal Parametes: beta = ', popt[0], ' and gamma = ', popt[1])\n",
    "print('Reproduction number, R0 : ', popt[0]/popt[1])"
   ]
  },
  {
   "cell_type": "code",
   "execution_count": 3,
   "metadata": {},
   "outputs": [],
   "source": [
    "dataPath_population = (\"../data/raw/population/Data_Extract_From_World_Development_Indicators/da7b8e49-d73c-485d-b0db-851a8315c19e_Data.csv\")\n",
    "\n",
    "df_population = pd.read_csv(dataPath_population, sep=',')"
   ]
  },
  {
   "cell_type": "code",
   "execution_count": 4,
   "metadata": {},
   "outputs": [
    {
     "data": {
      "text/html": [
       "<div>\n",
       "<style scoped>\n",
       "    .dataframe tbody tr th:only-of-type {\n",
       "        vertical-align: middle;\n",
       "    }\n",
       "\n",
       "    .dataframe tbody tr th {\n",
       "        vertical-align: top;\n",
       "    }\n",
       "\n",
       "    .dataframe thead th {\n",
       "        text-align: right;\n",
       "    }\n",
       "</style>\n",
       "<table border=\"1\" class=\"dataframe\">\n",
       "  <thead>\n",
       "    <tr style=\"text-align: right;\">\n",
       "      <th></th>\n",
       "      <th>Series Name</th>\n",
       "      <th>Series Code</th>\n",
       "      <th>Country Name</th>\n",
       "      <th>Country Code</th>\n",
       "      <th>1990 [YR1990]</th>\n",
       "      <th>2000 [YR2000]</th>\n",
       "      <th>2010 [YR2010]</th>\n",
       "      <th>2011 [YR2011]</th>\n",
       "      <th>2012 [YR2012]</th>\n",
       "      <th>2013 [YR2013]</th>\n",
       "      <th>2014 [YR2014]</th>\n",
       "      <th>2015 [YR2015]</th>\n",
       "      <th>2016 [YR2016]</th>\n",
       "      <th>2017 [YR2017]</th>\n",
       "      <th>2018 [YR2018]</th>\n",
       "      <th>2019 [YR2019]</th>\n",
       "    </tr>\n",
       "  </thead>\n",
       "  <tbody>\n",
       "    <tr>\n",
       "      <th>0</th>\n",
       "      <td>Population, total</td>\n",
       "      <td>SP.POP.TOTL</td>\n",
       "      <td>Afghanistan</td>\n",
       "      <td>AFG</td>\n",
       "      <td>12412308</td>\n",
       "      <td>20779953</td>\n",
       "      <td>29185507</td>\n",
       "      <td>30117413</td>\n",
       "      <td>31161376</td>\n",
       "      <td>32269589</td>\n",
       "      <td>33370794</td>\n",
       "      <td>34413603</td>\n",
       "      <td>35383128</td>\n",
       "      <td>36296400</td>\n",
       "      <td>37172386</td>\n",
       "      <td>38041754</td>\n",
       "    </tr>\n",
       "    <tr>\n",
       "      <th>1</th>\n",
       "      <td>Population, total</td>\n",
       "      <td>SP.POP.TOTL</td>\n",
       "      <td>Albania</td>\n",
       "      <td>ALB</td>\n",
       "      <td>3286542</td>\n",
       "      <td>3089027</td>\n",
       "      <td>2913021</td>\n",
       "      <td>2905195</td>\n",
       "      <td>2900401</td>\n",
       "      <td>2895092</td>\n",
       "      <td>2889104</td>\n",
       "      <td>2880703</td>\n",
       "      <td>2876101</td>\n",
       "      <td>2873457</td>\n",
       "      <td>2866376</td>\n",
       "      <td>2854191</td>\n",
       "    </tr>\n",
       "    <tr>\n",
       "      <th>2</th>\n",
       "      <td>Population, total</td>\n",
       "      <td>SP.POP.TOTL</td>\n",
       "      <td>Algeria</td>\n",
       "      <td>DZA</td>\n",
       "      <td>25758869</td>\n",
       "      <td>31042235</td>\n",
       "      <td>35977455</td>\n",
       "      <td>36661444</td>\n",
       "      <td>37383887</td>\n",
       "      <td>38140132</td>\n",
       "      <td>38923687</td>\n",
       "      <td>39728025</td>\n",
       "      <td>40551404</td>\n",
       "      <td>41389198</td>\n",
       "      <td>42228429</td>\n",
       "      <td>43053054</td>\n",
       "    </tr>\n",
       "    <tr>\n",
       "      <th>3</th>\n",
       "      <td>Population, total</td>\n",
       "      <td>SP.POP.TOTL</td>\n",
       "      <td>American Samoa</td>\n",
       "      <td>ASM</td>\n",
       "      <td>47347</td>\n",
       "      <td>57821</td>\n",
       "      <td>56079</td>\n",
       "      <td>55759</td>\n",
       "      <td>55667</td>\n",
       "      <td>55713</td>\n",
       "      <td>55791</td>\n",
       "      <td>55812</td>\n",
       "      <td>55741</td>\n",
       "      <td>55620</td>\n",
       "      <td>55465</td>\n",
       "      <td>55312</td>\n",
       "    </tr>\n",
       "    <tr>\n",
       "      <th>4</th>\n",
       "      <td>Population, total</td>\n",
       "      <td>SP.POP.TOTL</td>\n",
       "      <td>Andorra</td>\n",
       "      <td>AND</td>\n",
       "      <td>54509</td>\n",
       "      <td>65390</td>\n",
       "      <td>84449</td>\n",
       "      <td>83747</td>\n",
       "      <td>82427</td>\n",
       "      <td>80774</td>\n",
       "      <td>79213</td>\n",
       "      <td>78011</td>\n",
       "      <td>77297</td>\n",
       "      <td>77001</td>\n",
       "      <td>77006</td>\n",
       "      <td>77142</td>\n",
       "    </tr>\n",
       "  </tbody>\n",
       "</table>\n",
       "</div>"
      ],
      "text/plain": [
       "         Series Name  Series Code    Country Name Country Code 1990 [YR1990]  \\\n",
       "0  Population, total  SP.POP.TOTL     Afghanistan          AFG      12412308   \n",
       "1  Population, total  SP.POP.TOTL         Albania          ALB       3286542   \n",
       "2  Population, total  SP.POP.TOTL         Algeria          DZA      25758869   \n",
       "3  Population, total  SP.POP.TOTL  American Samoa          ASM         47347   \n",
       "4  Population, total  SP.POP.TOTL         Andorra          AND         54509   \n",
       "\n",
       "  2000 [YR2000] 2010 [YR2010] 2011 [YR2011] 2012 [YR2012] 2013 [YR2013]  \\\n",
       "0      20779953      29185507      30117413      31161376      32269589   \n",
       "1       3089027       2913021       2905195       2900401       2895092   \n",
       "2      31042235      35977455      36661444      37383887      38140132   \n",
       "3         57821         56079         55759         55667         55713   \n",
       "4         65390         84449         83747         82427         80774   \n",
       "\n",
       "  2014 [YR2014] 2015 [YR2015] 2016 [YR2016] 2017 [YR2017] 2018 [YR2018]  \\\n",
       "0      33370794      34413603      35383128      36296400      37172386   \n",
       "1       2889104       2880703       2876101       2873457       2866376   \n",
       "2      38923687      39728025      40551404      41389198      42228429   \n",
       "3         55791         55812         55741         55620         55465   \n",
       "4         79213         78011         77297         77001         77006   \n",
       "\n",
       "  2019 [YR2019]  \n",
       "0      38041754  \n",
       "1       2854191  \n",
       "2      43053054  \n",
       "3         55312  \n",
       "4         77142  "
      ]
     },
     "execution_count": 4,
     "metadata": {},
     "output_type": "execute_result"
    }
   ],
   "source": [
    "df_population.head()"
   ]
  },
  {
   "cell_type": "code",
   "execution_count": 5,
   "metadata": {},
   "outputs": [
    {
     "data": {
      "text/plain": [
       "Index(['Series Name', 'Series Code', 'Country Name', 'Country Code',\n",
       "       '1990 [YR1990]', '2000 [YR2000]', '2010 [YR2010]', '2011 [YR2011]',\n",
       "       '2012 [YR2012]', '2013 [YR2013]', '2014 [YR2014]', '2015 [YR2015]',\n",
       "       '2016 [YR2016]', '2017 [YR2017]', '2018 [YR2018]', '2019 [YR2019]'],\n",
       "      dtype='object')"
      ]
     },
     "execution_count": 5,
     "metadata": {},
     "output_type": "execute_result"
    }
   ],
   "source": [
    "df_population.columns"
   ]
  },
  {
   "cell_type": "code",
   "execution_count": 6,
   "metadata": {},
   "outputs": [],
   "source": [
    "pop_raw = df_population.rename(columns={'Country Name':'country', '2019 [YR2019]':'2019'})"
   ]
  },
  {
   "cell_type": "code",
   "execution_count": 7,
   "metadata": {},
   "outputs": [],
   "source": [
    "pop_raw.drop(pop_raw.columns.difference(['country','2019']), 1, inplace=True)"
   ]
  },
  {
   "cell_type": "code",
   "execution_count": 8,
   "metadata": {},
   "outputs": [
    {
     "data": {
      "text/html": [
       "<div>\n",
       "<style scoped>\n",
       "    .dataframe tbody tr th:only-of-type {\n",
       "        vertical-align: middle;\n",
       "    }\n",
       "\n",
       "    .dataframe tbody tr th {\n",
       "        vertical-align: top;\n",
       "    }\n",
       "\n",
       "    .dataframe thead th {\n",
       "        text-align: right;\n",
       "    }\n",
       "</style>\n",
       "<table border=\"1\" class=\"dataframe\">\n",
       "  <thead>\n",
       "    <tr style=\"text-align: right;\">\n",
       "      <th></th>\n",
       "      <th>country</th>\n",
       "      <th>2019</th>\n",
       "    </tr>\n",
       "  </thead>\n",
       "  <tbody>\n",
       "    <tr>\n",
       "      <th>0</th>\n",
       "      <td>Afghanistan</td>\n",
       "      <td>38041754</td>\n",
       "    </tr>\n",
       "    <tr>\n",
       "      <th>1</th>\n",
       "      <td>Albania</td>\n",
       "      <td>2854191</td>\n",
       "    </tr>\n",
       "    <tr>\n",
       "      <th>2</th>\n",
       "      <td>Algeria</td>\n",
       "      <td>43053054</td>\n",
       "    </tr>\n",
       "    <tr>\n",
       "      <th>3</th>\n",
       "      <td>American Samoa</td>\n",
       "      <td>55312</td>\n",
       "    </tr>\n",
       "    <tr>\n",
       "      <th>4</th>\n",
       "      <td>Andorra</td>\n",
       "      <td>77142</td>\n",
       "    </tr>\n",
       "  </tbody>\n",
       "</table>\n",
       "</div>"
      ],
      "text/plain": [
       "          country      2019\n",
       "0     Afghanistan  38041754\n",
       "1         Albania   2854191\n",
       "2         Algeria  43053054\n",
       "3  American Samoa     55312\n",
       "4         Andorra     77142"
      ]
     },
     "execution_count": 8,
     "metadata": {},
     "output_type": "execute_result"
    }
   ],
   "source": [
    "pop_raw.head()"
   ]
  },
  {
   "cell_type": "code",
   "execution_count": 9,
   "metadata": {},
   "outputs": [],
   "source": [
    "country_list = pop_raw['country'].unique()"
   ]
  },
  {
   "cell_type": "code",
   "execution_count": 10,
   "metadata": {},
   "outputs": [
    {
     "data": {
      "text/plain": [
       "265"
      ]
     },
     "execution_count": 10,
     "metadata": {},
     "output_type": "execute_result"
    }
   ],
   "source": [
    "len(country_list)"
   ]
  },
  {
   "cell_type": "code",
   "execution_count": 11,
   "metadata": {},
   "outputs": [
    {
     "ename": "IndexError",
     "evalue": "only integers, slices (`:`), ellipsis (`...`), numpy.newaxis (`None`) and integer or boolean arrays are valid indices",
     "output_type": "error",
     "traceback": [
      "\u001b[0;31m---------------------------------------------------------------------------\u001b[0m",
      "\u001b[0;31mIndexError\u001b[0m                                Traceback (most recent call last)",
      "\u001b[0;32m<ipython-input-11-98b91a14602d>\u001b[0m in \u001b[0;36m<module>\u001b[0;34m\u001b[0m\n\u001b[0;32m----> 1\u001b[0;31m \u001b[0mprint\u001b[0m\u001b[0;34m(\u001b[0m\u001b[0mcountry_list\u001b[0m\u001b[0;34m[\u001b[0m\u001b[0;34m'India'\u001b[0m\u001b[0;34m]\u001b[0m\u001b[0;34m)\u001b[0m\u001b[0;34m\u001b[0m\u001b[0m\n\u001b[0m",
      "\u001b[0;31mIndexError\u001b[0m: only integers, slices (`:`), ellipsis (`...`), numpy.newaxis (`None`) and integer or boolean arrays are valid indices"
     ]
    }
   ],
   "source": [
    "print(country_list['India'])"
   ]
  },
  {
   "cell_type": "code",
   "execution_count": null,
   "metadata": {},
   "outputs": [],
   "source": []
  }
 ],
 "metadata": {
  "kernelspec": {
   "display_name": "Python 3",
   "language": "python",
   "name": "python3"
  },
  "language_info": {
   "codemirror_mode": {
    "name": "ipython",
    "version": 3
   },
   "file_extension": ".py",
   "mimetype": "text/x-python",
   "name": "python",
   "nbconvert_exporter": "python",
   "pygments_lexer": "ipython3",
   "version": "3.6.3"
  }
 },
 "nbformat": 4,
 "nbformat_minor": 4
}
